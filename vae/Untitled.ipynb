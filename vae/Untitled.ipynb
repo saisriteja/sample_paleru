{
 "cells": [
  {
   "cell_type": "code",
   "execution_count": 1,
   "metadata": {},
   "outputs": [],
   "source": [
    "import pandas as pd\n",
    "data = pd.read_excel('UCLASS.xlsx')"
   ]
  },
  {
   "cell_type": "code",
   "execution_count": 2,
   "metadata": {},
   "outputs": [
    {
     "name": "stdout",
     "output_type": "stream",
     "text": [
      "total data avaiable is 1037\n"
     ]
    }
   ],
   "source": [
    "print('total data avaiable is',data.shape[0])"
   ]
  },
  {
   "cell_type": "code",
   "execution_count": 3,
   "metadata": {},
   "outputs": [
    {
     "name": "stdout",
     "output_type": "stream",
     "text": [
      "total labeled data avaiable is 920\n"
     ]
    }
   ],
   "source": [
    "data = data.fillna(False)\n",
    "data = data[data['Text'] != False]\n",
    "print('total labeled data avaiable is',data.shape[0])"
   ]
  },
  {
   "cell_type": "code",
   "execution_count": 4,
   "metadata": {},
   "outputs": [
    {
     "name": "stdout",
     "output_type": "stream",
     "text": [
      "total interjections in data avaiable is            322\n",
      "total non interjections in data avaiable is        598\n"
     ]
    }
   ],
   "source": [
    "fillers = data[data['Interjection'] != False]\n",
    "print('total interjections in data avaiable is'.ljust(50,' '),fillers.shape[0])\n",
    "print('total non interjections in data avaiable is'.ljust(50,' '),data.shape[0]-fillers.shape[0])"
   ]
  },
  {
   "cell_type": "code",
   "execution_count": 5,
   "metadata": {},
   "outputs": [],
   "source": [
    "cols = ['Name','Text',\"Interjection\"]\n",
    "refined_data = fillers[cols]"
   ]
  },
  {
   "cell_type": "code",
   "execution_count": 6,
   "metadata": {},
   "outputs": [],
   "source": [
    "refined_data.to_csv('filler.csv', index=False)"
   ]
  },
  {
   "cell_type": "code",
   "execution_count": 7,
   "metadata": {},
   "outputs": [],
   "source": [
    "filler_data = pd.read_csv('filler.csv')"
   ]
  },
  {
   "cell_type": "code",
   "execution_count": 8,
   "metadata": {},
   "outputs": [],
   "source": [
    "dst = 'fillers/'\n",
    "from shutil import copyfile\n",
    "def copy(i):\n",
    "    n = i.split('\\\\')[-1]\n",
    "    dsts = dst+n\n",
    "    copyfile(i, dsts)"
   ]
  },
  {
   "cell_type": "code",
   "execution_count": 12,
   "metadata": {},
   "outputs": [],
   "source": [
    "i = 29"
   ]
  },
  {
   "cell_type": "code",
   "execution_count": 13,
   "metadata": {},
   "outputs": [],
   "source": [
    "import os\n",
    "import glob\n",
    "\n",
    "def clean():\n",
    "    files = glob.glob('fillers/*')\n",
    "    for f in files:\n",
    "#         print(f)\n",
    "        os.remove(f)"
   ]
  },
  {
   "cell_type": "code",
   "execution_count": 14,
   "metadata": {},
   "outputs": [
    {
     "name": "stdout",
     "output_type": "stream",
     "text": [
      "31\n",
      "D:\\placements\\paleru_technology\\data\\UCLASS\\F_0101_13y1m_1_id138.wav  \n",
      "UM   \n"
     ]
    }
   ],
   "source": [
    "# i=16\n",
    "i = i+1\n",
    "print(i+1)\n",
    "clean()\n",
    "copy(filler_data.iloc[i].Name)\n",
    "print(filler_data.iloc[i].Name,' ' )\n",
    "print(filler_data.iloc[i].Text,'  ')"
   ]
  },
  {
   "cell_type": "code",
   "execution_count": 26,
   "metadata": {},
   "outputs": [],
   "source": []
  },
  {
   "cell_type": "code",
   "execution_count": 31,
   "metadata": {},
   "outputs": [],
   "source": [
    "for i in filler_data['Name'].to_list():\n",
    "\n",
    "#     print(i.split('\\\\')[-1])\n"
   ]
  },
  {
   "cell_type": "code",
   "execution_count": 33,
   "metadata": {},
   "outputs": [],
   "source": []
  },
  {
   "cell_type": "code",
   "execution_count": null,
   "metadata": {
    "collapsed": true
   },
   "outputs": [],
   "source": []
  }
 ],
 "metadata": {
  "kernelspec": {
   "display_name": "Python 3",
   "language": "python",
   "name": "python3"
  },
  "language_info": {
   "codemirror_mode": {
    "name": "ipython",
    "version": 3
   },
   "file_extension": ".py",
   "mimetype": "text/x-python",
   "name": "python",
   "nbconvert_exporter": "python",
   "pygments_lexer": "ipython3",
   "version": "3.7.6"
  }
 },
 "nbformat": 4,
 "nbformat_minor": 4
}
